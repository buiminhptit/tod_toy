{
 "cells": [
  {
   "cell_type": "code",
   "execution_count": 1,
   "id": "39f91574-efb7-47d0-ae94-9105e4b84201",
   "metadata": {},
   "outputs": [
    {
     "name": "stdout",
     "output_type": "stream",
     "text": [
      "\n",
      "===================================BUG REPORT===================================\n",
      "Welcome to bitsandbytes. For bug reports, please run\n",
      "\n",
      "python -m bitsandbytes\n",
      "\n",
      " and submit this information together with your error trace to: https://github.com/TimDettmers/bitsandbytes/issues\n",
      "================================================================================\n",
      "bin /home/dungnt/anaconda3/envs/chai-dont/lib/python3.10/site-packages/bitsandbytes/libbitsandbytes_cuda118.so\n",
      "CUDA SETUP: CUDA runtime path found: /home/dungnt/anaconda3/lib/libcudart.so\n",
      "CUDA SETUP: Highest compute capability among GPUs detected: 8.9\n",
      "CUDA SETUP: Detected CUDA version 118\n",
      "CUDA SETUP: Loading binary /home/dungnt/anaconda3/envs/chai-dont/lib/python3.10/site-packages/bitsandbytes/libbitsandbytes_cuda118.so...\n"
     ]
    },
    {
     "name": "stderr",
     "output_type": "stream",
     "text": [
      "/home/dungnt/anaconda3/envs/chai-dont/lib/python3.10/site-packages/bitsandbytes/cuda_setup/main.py:149: UserWarning: Found duplicate ['libcudart.so', 'libcudart.so.11.0', 'libcudart.so.12.0'] files: {PosixPath('/home/dungnt/anaconda3/lib/libcudart.so'), PosixPath('/home/dungnt/anaconda3/lib/libcudart.so.11.0')}.. We'll flip a coin and try one of these, in order to fail forward.\n",
      "Either way, this might cause trouble in the future:\n",
      "If you get `CUDA error: invalid device function` errors, the above might be the cause and the solution is to make sure only one ['libcudart.so', 'libcudart.so.11.0', 'libcudart.so.12.0'] in the paths that we search based on your env.\n",
      "  warn(msg)\n"
     ]
    }
   ],
   "source": [
    "#!/usr/bin/python3\n",
    "import sys\n",
    "import os\n",
    "import torch\n",
    "from peft import PeftModel, set_peft_model_state_dict\n",
    "from transformers import AutoTokenizer, AutoModelForCausalLM\n",
    "from prompt import make_prompt\n",
    "\n",
    "BASE_MODEL = \"PygmalionAI/pygmalion-6b\"\n",
    "PEFT_WEIGHTS = \"out/Curio_v1/\"\n",
    "\n",
    "# BASE_MODEL = \"EleutherAI/gpt-j-6B\"\n",
    "# PEFT_WEIGHTS = \"Curio/checkpoint-600/\"\n",
    "load_in_8bit = True"
   ]
  },
  {
   "cell_type": "code",
   "execution_count": 2,
   "id": "3ef52ef1-1844-49f3-bf9f-4946c63911d2",
   "metadata": {},
   "outputs": [
    {
     "data": {
      "application/vnd.jupyter.widget-view+json": {
       "model_id": "5a329d0dafa7436aabb60e204b92240f",
       "version_major": 2,
       "version_minor": 0
      },
      "text/plain": [
       "Loading checkpoint shards:   0%|          | 0/2 [00:00<?, ?it/s]"
      ]
     },
     "metadata": {},
     "output_type": "display_data"
    }
   ],
   "source": [
    "# model = AutoModelForCausalLM.from_pretrained(BASE_MODEL)\n",
    "model = AutoModelForCausalLM.from_pretrained(\n",
    "        BASE_MODEL,\n",
    "        load_in_8bit=load_in_8bit,\n",
    "        torch_dtype=torch.float16,\n",
    "        device_map=\"auto\",\n",
    "    )"
   ]
  },
  {
   "cell_type": "code",
   "execution_count": 3,
   "id": "c21e85c2-7f52-45bc-bacc-54e613771360",
   "metadata": {},
   "outputs": [
    {
     "name": "stdout",
     "output_type": "stream",
     "text": [
      "Let's gooo\n"
     ]
    }
   ],
   "source": [
    "model = PeftModel.from_pretrained(model, PEFT_WEIGHTS)\n",
    "tokenizer = AutoTokenizer.from_pretrained(BASE_MODEL)\n",
    "model.eval()\n",
    "print(\"Let's gooo\")"
   ]
  },
  {
   "cell_type": "code",
   "execution_count": 4,
   "id": "fe746f76-e783-4bec-8aad-b452bb627e70",
   "metadata": {},
   "outputs": [],
   "source": [
    "def get_answer(prompt, max_new_tokens=1024, skip_tl=False):\n",
    "    input_ids = tokenizer(prompt, return_tensors=\"pt\")[\"input_ids\"].to(model.device)\n",
    "    with torch.no_grad():\n",
    "        gen_tokens = model.generate(\n",
    "            input_ids=input_ids,\n",
    "            max_length=len(input_ids) + max_new_tokens,\n",
    "            do_sample=True,\n",
    "            temperature=0.5,\n",
    "            top_k=20,\n",
    "            repetition_penalty=1.2,\n",
    "            # eos_token_id=0, # for open-end generation.\n",
    "            pad_token_id=tokenizer.eos_token_id,\n",
    "        )\n",
    "    origin_output = tokenizer.batch_decode(gen_tokens)[0]\n",
    "    output = origin_output.split(\"I'd like to ask:\")[-1]\n",
    "    try:\n",
    "        k = output.index(\":\")\n",
    "        if k < 10: output = output[k+1:]\n",
    "    except:\n",
    "        output = output\n",
    "    # print(f\"\\n- - -{origin_output}- - -\\n\")\n",
    "    output = output.split(\"<|endoftext|>\")[0]\n",
    "    return output.strip()"
   ]
  },
  {
   "cell_type": "code",
   "execution_count": 5,
   "id": "1c83c7cb-0fc3-44ed-b5c6-38b377dae43b",
   "metadata": {},
   "outputs": [
    {
     "name": "stdout",
     "output_type": "stream",
     "text": [
      "Curio's Persona: Curio is a person who has a strong desire to learn and understand things better. Whenever he reads something, he likes to ask questions to satisfy his curiosity. \n",
      "<START>\n",
      "You: Make plausible questions about the following context.\n",
      "### TITLE: Walter Sickert\n",
      "### CONTENT: \n",
      "In 1926 he suffered an illness, thought to have been a minor stroke.[22] In 1927, he abandoned his first name in favour of his middle name, and thereafter chose to be known as Richard Sickert.[23] His style and subject matter also changed: Sickert stopped drawing, and instead painted from snapshots usually taken by his third wife, Thérèse Lessore, or from news photographs. The photographs were squared up for enlargement and transferred to canvas, with their pencil grids plainly visible in the finished paintings.\n",
      "\n",
      "Curio: Here are some questions I'd like to ask:\n",
      "1. What\n"
     ]
    }
   ],
   "source": [
    "from prompt import make_curious_prompt\n",
    "title = \"Walter Sickert\"\n",
    "context = \"\"\"\n",
    "In 1926 he suffered an illness, thought to have been a minor stroke.[22] In 1927, he abandoned his first name in favour of his middle name, and thereafter chose to be known as Richard Sickert.[23] His style and subject matter also changed: Sickert stopped drawing, and instead painted from snapshots usually taken by his third wife, Thérèse Lessore, or from news photographs. The photographs were squared up for enlargement and transferred to canvas, with their pencil grids plainly visible in the finished paintings.\n",
    "\"\"\"\n",
    "prompt = make_curious_prompt(title, context, \"\") + \"1. What\"\n",
    "print(prompt)"
   ]
  },
  {
   "cell_type": "code",
   "execution_count": 6,
   "id": "59c78a46-18cf-42f2-a5c7-7e10d97f7973",
   "metadata": {},
   "outputs": [
    {
     "data": {
      "text/plain": [
       "device(type='cuda', index=0)"
      ]
     },
     "execution_count": 6,
     "metadata": {},
     "output_type": "execute_result"
    }
   ],
   "source": [
    "model.device"
   ]
  },
  {
   "cell_type": "code",
   "execution_count": 8,
   "id": "411be443-6df4-46b8-bcf0-fe11fd5810c0",
   "metadata": {},
   "outputs": [
    {
     "name": "stdout",
     "output_type": "stream",
     "text": [
      "1. What did Walter sicker think was wrong?\n",
      "2. Who took most pictures of Walter sicker?\n",
      "CPU times: user 19.1 s, sys: 460 µs, total: 19.1 s\n",
      "Wall time: 19.1 s\n"
     ]
    }
   ],
   "source": [
    "%%time\n",
    "print(get_answer(prompt))"
   ]
  }
 ],
 "metadata": {
  "kernelspec": {
   "display_name": "chai-dont",
   "language": "python",
   "name": "chai-dont"
  },
  "language_info": {
   "codemirror_mode": {
    "name": "ipython",
    "version": 3
   },
   "file_extension": ".py",
   "mimetype": "text/x-python",
   "name": "python",
   "nbconvert_exporter": "python",
   "pygments_lexer": "ipython3",
   "version": "3.10.9"
  }
 },
 "nbformat": 4,
 "nbformat_minor": 5
}
